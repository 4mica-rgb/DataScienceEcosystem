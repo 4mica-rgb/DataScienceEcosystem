{
 "cells": [
  {
   "cell_type": "markdown",
   "id": "22085a9d-4b9d-4a89-ab89-40183fe7c029",
   "metadata": {},
   "source": [
    "# Data Science Tools and Ecosystem"
   ]
  },
  {
   "cell_type": "markdown",
   "id": "8d375cbb-24fb-4198-b33d-957df96cf8b5",
   "metadata": {},
   "source": [
    "In this notebook, Data Science Tools and Ecosystem are summarized."
   ]
  },
  {
   "cell_type": "markdown",
   "id": "6f4fd138-e62a-4cb5-b631-d2686ebd8e60",
   "metadata": {},
   "source": [
    "**Objectives:**\n",
    "\n",
    "- List popular languages for Data Science  \n",
    "- Create tables using Markdown in Jupyter Notebooks  \n",
    "- Write and format markdown cells with headings  \n",
    "- Evaluate arithmetic expressions in Python"
   ]
  },
  {
   "cell_type": "markdown",
   "id": "5e0fa586-957c-49e0-8c0e-bfba55775c6c",
   "metadata": {},
   "source": [
    "Some of the popular languages that Data Scientists use are:\n",
    "\n",
    "1. Python\n",
    "2. SQL\n",
    "3. R"
   ]
  },
  {
   "cell_type": "markdown",
   "id": "2c5b5881-d68f-4215-b056-0eeb1e6e83f6",
   "metadata": {},
   "source": [
    "Some of the commonly used libraries used by Data Scientists include:\n",
    "1. Matplotlib\n",
    "2. Keras\n",
    "3. Pandas"
   ]
  },
  {
   "cell_type": "markdown",
   "id": "af470ab7-ddb8-4e1b-a26d-03cb1dc3279b",
   "metadata": {},
   "source": [
    "| Data Science Tools |\n",
    "|------|\n",
    "| Jupyter Notebook          |\n",
    "| RStudio                   |\n",
    "| Apache Zeppelin           |"
   ]
  },
  {
   "cell_type": "markdown",
   "id": "b27f1bc7-1e3f-431d-9515-68b01a724d37",
   "metadata": {},
   "source": [
    "### Below are a few examples of evaluating arithmetic expressions in Python"
   ]
  },
  {
   "cell_type": "code",
   "execution_count": 6,
   "id": "515ae5bf-da40-4ce3-92d3-a7a30461831a",
   "metadata": {},
   "outputs": [
    {
     "data": {
      "text/plain": [
       "17"
      ]
     },
     "execution_count": 6,
     "metadata": {},
     "output_type": "execute_result"
    }
   ],
   "source": [
    "(3*4)+5"
   ]
  },
  {
   "cell_type": "code",
   "execution_count": 13,
   "id": "a6a187fe-07d3-4b4b-951c-9c920c9fbb30",
   "metadata": {},
   "outputs": [
    {
     "data": {
      "text/plain": [
       "3.3333333333333335"
      ]
     },
     "execution_count": 13,
     "metadata": {},
     "output_type": "execute_result"
    }
   ],
   "source": [
    "# This will convert 200 minutes to hours by diving by 60\n",
    "\n",
    "hours = 200 / 60\n",
    "hours"
   ]
  },
  {
   "cell_type": "markdown",
   "id": "05eb195b-f548-4e1e-a3ce-4c10ea27674d",
   "metadata": {},
   "source": [
    "## Author\n",
    "\n",
    "Akinola Fadeni"
   ]
  },
  {
   "cell_type": "code",
   "execution_count": null,
   "id": "5c3b07a6-6ee7-4f79-823a-f3c84d55a9f9",
   "metadata": {},
   "outputs": [],
   "source": []
  }
 ],
 "metadata": {
  "kernelspec": {
   "display_name": "Python 3 (ipykernel)",
   "language": "python",
   "name": "python3"
  },
  "language_info": {
   "codemirror_mode": {
    "name": "ipython",
    "version": 3
   },
   "file_extension": ".py",
   "mimetype": "text/x-python",
   "name": "python",
   "nbconvert_exporter": "python",
   "pygments_lexer": "ipython3",
   "version": "3.12.8"
  }
 },
 "nbformat": 4,
 "nbformat_minor": 5
}
